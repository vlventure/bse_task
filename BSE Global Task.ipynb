{
 "cells": [
  {
   "cell_type": "code",
   "execution_count": 1,
   "id": "4e61f600",
   "metadata": {},
   "outputs": [],
   "source": [
    "import numpy as np\n",
    "import pandas as pd\n",
    "import matplotlib.pyplot as plt\n",
    "import seaborn as sns\n",
    "%matplotlib inline"
   ]
  },
  {
   "cell_type": "code",
   "execution_count": 2,
   "id": "670a350e",
   "metadata": {},
   "outputs": [],
   "source": [
    "preseason_df = pd.read_csv('wave1Data Preseason.csv')"
   ]
  },
  {
   "cell_type": "code",
   "execution_count": 3,
   "id": "cd6472c6",
   "metadata": {},
   "outputs": [],
   "source": [
    "postseason_df = pd.read_csv('Wave2Data Postseason.csv')"
   ]
  },
  {
   "cell_type": "markdown",
   "id": "2d46e827",
   "metadata": {},
   "source": [
    "#### PreSeason"
   ]
  },
  {
   "cell_type": "code",
   "execution_count": 5,
   "id": "1ba1d27c",
   "metadata": {},
   "outputs": [],
   "source": [
    "#check for duplicates in uuid column\n",
    "\n",
    "check_dupes = preseason_df.duplicated(subset=['uuid']).any()"
   ]
  },
  {
   "cell_type": "code",
   "execution_count": 6,
   "id": "59f2defd",
   "metadata": {},
   "outputs": [
    {
     "data": {
      "text/plain": [
       "False"
      ]
     },
     "execution_count": 6,
     "metadata": {},
     "output_type": "execute_result"
    }
   ],
   "source": [
    "check_dupes"
   ]
  },
  {
   "cell_type": "code",
   "execution_count": 7,
   "id": "dba02565",
   "metadata": {},
   "outputs": [
    {
     "data": {
      "text/plain": [
       "(1452, 13)"
      ]
     },
     "execution_count": 7,
     "metadata": {},
     "output_type": "execute_result"
    }
   ],
   "source": [
    "preseason_df.shape"
   ]
  },
  {
   "cell_type": "code",
   "execution_count": 8,
   "id": "7cdc5aba",
   "metadata": {},
   "outputs": [
    {
     "data": {
      "text/plain": [
       "str"
      ]
     },
     "execution_count": 8,
     "metadata": {},
     "output_type": "execute_result"
    }
   ],
   "source": [
    "type(preseason_df['Ovr_Sat'][0])"
   ]
  },
  {
   "cell_type": "markdown",
   "id": "a9f33084",
   "metadata": {},
   "source": [
    "#### 1. get rid of text in Ovr_Sat, Team_Sat, Comm_Sat, and Benefit_Sat Columns"
   ]
  },
  {
   "cell_type": "code",
   "execution_count": 9,
   "id": "67d92e77",
   "metadata": {},
   "outputs": [
    {
     "data": {
      "text/html": [
       "<div>\n",
       "<style scoped>\n",
       "    .dataframe tbody tr th:only-of-type {\n",
       "        vertical-align: middle;\n",
       "    }\n",
       "\n",
       "    .dataframe tbody tr th {\n",
       "        vertical-align: top;\n",
       "    }\n",
       "\n",
       "    .dataframe thead th {\n",
       "        text-align: right;\n",
       "    }\n",
       "</style>\n",
       "<table border=\"1\" class=\"dataframe\">\n",
       "  <thead>\n",
       "    <tr style=\"text-align: right;\">\n",
       "      <th></th>\n",
       "      <th>uuid</th>\n",
       "      <th>Wave</th>\n",
       "      <th>Section</th>\n",
       "      <th>Row</th>\n",
       "      <th>Age</th>\n",
       "      <th>Gender</th>\n",
       "      <th>Tenure</th>\n",
       "      <th>Ovr_Sat</th>\n",
       "      <th>Team_Sat</th>\n",
       "      <th>Comm_Sat</th>\n",
       "      <th>Comm_Freq</th>\n",
       "      <th>Benefit_Sat</th>\n",
       "      <th>Benefit_Aware</th>\n",
       "    </tr>\n",
       "  </thead>\n",
       "  <tbody>\n",
       "    <tr>\n",
       "      <th>5</th>\n",
       "      <td>c4e9058c</td>\n",
       "      <td>1</td>\n",
       "      <td>114</td>\n",
       "      <td>F</td>\n",
       "      <td>45-54</td>\n",
       "      <td>Male</td>\n",
       "      <td>11-15 season</td>\n",
       "      <td>10 - Extremely satisfied</td>\n",
       "      <td>1 - Not at all satisfied</td>\n",
       "      <td>4</td>\n",
       "      <td>Too Many</td>\n",
       "      <td>NaN</td>\n",
       "      <td>Unaware</td>\n",
       "    </tr>\n",
       "    <tr>\n",
       "      <th>7</th>\n",
       "      <td>f26bbe4b</td>\n",
       "      <td>1</td>\n",
       "      <td>93</td>\n",
       "      <td>P</td>\n",
       "      <td>65+</td>\n",
       "      <td>Male</td>\n",
       "      <td>21+ seasons</td>\n",
       "      <td>10 - Extremely satisfied</td>\n",
       "      <td>10 - Extremely satisfied</td>\n",
       "      <td>10 - Extremely satisfied</td>\n",
       "      <td>Just right</td>\n",
       "      <td>7</td>\n",
       "      <td>Aware and have NOT used/received</td>\n",
       "    </tr>\n",
       "    <tr>\n",
       "      <th>14</th>\n",
       "      <td>cbd1cc53</td>\n",
       "      <td>1</td>\n",
       "      <td>28</td>\n",
       "      <td>D</td>\n",
       "      <td>55-64</td>\n",
       "      <td>Male</td>\n",
       "      <td>6-10 season</td>\n",
       "      <td>10 - Extremely satisfied</td>\n",
       "      <td>3</td>\n",
       "      <td>3</td>\n",
       "      <td>Too Few</td>\n",
       "      <td>6</td>\n",
       "      <td>Aware and have NOT used/received</td>\n",
       "    </tr>\n",
       "    <tr>\n",
       "      <th>20</th>\n",
       "      <td>dcb01035</td>\n",
       "      <td>1</td>\n",
       "      <td>99</td>\n",
       "      <td>K</td>\n",
       "      <td>35-44</td>\n",
       "      <td>Female</td>\n",
       "      <td>2-5 season</td>\n",
       "      <td>10 - Extremely satisfied</td>\n",
       "      <td>3</td>\n",
       "      <td>3</td>\n",
       "      <td>Just Right</td>\n",
       "      <td>6</td>\n",
       "      <td>Aware and have NOT used/received</td>\n",
       "    </tr>\n",
       "    <tr>\n",
       "      <th>37</th>\n",
       "      <td>134dfa0d</td>\n",
       "      <td>1</td>\n",
       "      <td>417</td>\n",
       "      <td>K</td>\n",
       "      <td>55-64</td>\n",
       "      <td>Female</td>\n",
       "      <td>21+ seasons</td>\n",
       "      <td>10 - Extremely satisfied</td>\n",
       "      <td>10 - Extremely satisfied</td>\n",
       "      <td>10 - Extremely satisfied</td>\n",
       "      <td>Just right</td>\n",
       "      <td>NaN</td>\n",
       "      <td>Aware and have NOT used/received</td>\n",
       "    </tr>\n",
       "  </tbody>\n",
       "</table>\n",
       "</div>"
      ],
      "text/plain": [
       "        uuid  Wave  Section Row    Age  Gender        Tenure  \\\n",
       "5   c4e9058c     1      114   F  45-54    Male  11-15 season   \n",
       "7   f26bbe4b     1       93   P    65+    Male   21+ seasons   \n",
       "14  cbd1cc53     1       28   D  55-64    Male   6-10 season   \n",
       "20  dcb01035     1       99   K  35-44  Female    2-5 season   \n",
       "37  134dfa0d     1      417   K  55-64  Female   21+ seasons   \n",
       "\n",
       "                     Ovr_Sat                  Team_Sat  \\\n",
       "5   10 - Extremely satisfied  1 - Not at all satisfied   \n",
       "7   10 - Extremely satisfied  10 - Extremely satisfied   \n",
       "14  10 - Extremely satisfied                         3   \n",
       "20  10 - Extremely satisfied                         3   \n",
       "37  10 - Extremely satisfied  10 - Extremely satisfied   \n",
       "\n",
       "                    Comm_Sat   Comm_Freq Benefit_Sat  \\\n",
       "5                          4    Too Many         NaN   \n",
       "7   10 - Extremely satisfied  Just right           7   \n",
       "14                         3     Too Few           6   \n",
       "20                         3  Just Right           6   \n",
       "37  10 - Extremely satisfied  Just right         NaN   \n",
       "\n",
       "                       Benefit_Aware  \n",
       "5                            Unaware  \n",
       "7   Aware and have NOT used/received  \n",
       "14  Aware and have NOT used/received  \n",
       "20  Aware and have NOT used/received  \n",
       "37  Aware and have NOT used/received  "
      ]
     },
     "execution_count": 9,
     "metadata": {},
     "output_type": "execute_result"
    }
   ],
   "source": [
    "string_section = preseason_df[preseason_df['Ovr_Sat'].str.contains('10 -')]\n",
    "string_section.head()"
   ]
  },
  {
   "cell_type": "code",
   "execution_count": 10,
   "id": "b30acad1",
   "metadata": {},
   "outputs": [],
   "source": [
    "#keep only the first 2 characters of string in each of the following columns\n",
    "preseason_df['Ovr_Sat'] = preseason_df['Ovr_Sat'].str[0:2]\n",
    "preseason_df['Team_Sat'] = preseason_df['Team_Sat'].str[0:2]\n",
    "preseason_df['Comm_Sat'] = preseason_df['Comm_Sat'].str[0:2]\n",
    "preseason_df['Benefit_Sat'] = preseason_df['Benefit_Sat'].str[0:2]"
   ]
  },
  {
   "cell_type": "code",
   "execution_count": 11,
   "id": "5d8a1451",
   "metadata": {},
   "outputs": [],
   "source": [
    "# get rid of leading and trailing spaces in each of the following columns\n",
    "preseason_df['Ovr_Sat'] = preseason_df['Ovr_Sat'].str.strip()\n",
    "preseason_df['Team_Sat'] = preseason_df['Team_Sat'].str.strip()\n",
    "preseason_df['Comm_Sat'] = preseason_df['Comm_Sat'].str.strip()\n",
    "preseason_df['Benefit_Sat'] = preseason_df['Benefit_Sat'].str.strip()"
   ]
  },
  {
   "cell_type": "code",
   "execution_count": 12,
   "id": "bc9c0b01",
   "metadata": {},
   "outputs": [],
   "source": [
    "#set type as float\n",
    "preseason_df['Ovr_Sat'] = preseason_df['Ovr_Sat'].astype(float)\n",
    "preseason_df['Team_Sat'] = preseason_df['Team_Sat'].astype(float)\n",
    "preseason_df['Comm_Sat'] = preseason_df['Comm_Sat'].astype(float)\n",
    "preseason_df['Benefit_Sat'] = preseason_df['Benefit_Sat'].astype(float)"
   ]
  },
  {
   "cell_type": "code",
   "execution_count": 13,
   "id": "d97cf772",
   "metadata": {},
   "outputs": [
    {
     "data": {
      "text/plain": [
       "numpy.float64"
      ]
     },
     "execution_count": 13,
     "metadata": {},
     "output_type": "execute_result"
    }
   ],
   "source": [
    "type(preseason_df['Benefit_Sat'][0])"
   ]
  },
  {
   "cell_type": "code",
   "execution_count": 14,
   "id": "bac4eb85",
   "metadata": {},
   "outputs": [],
   "source": [
    "#use this code to export to csv\n",
    "#preseason_df.to_csv('/users/veronicaventure/Documents/bse_preseason_data.csv')"
   ]
  },
  {
   "cell_type": "markdown",
   "id": "461f50c9",
   "metadata": {},
   "source": [
    "#### PostSeason"
   ]
  },
  {
   "cell_type": "markdown",
   "id": "81cf42ff",
   "metadata": {},
   "source": [
    "#### 1. get rid of text in Ovr_Sat, Team_Sat, Comm_Sat, and Benefit_Sat Columns"
   ]
  },
  {
   "cell_type": "code",
   "execution_count": 15,
   "id": "ec76ac12",
   "metadata": {},
   "outputs": [
    {
     "data": {
      "text/plain": [
       "False"
      ]
     },
     "execution_count": 15,
     "metadata": {},
     "output_type": "execute_result"
    }
   ],
   "source": [
    "check_dupes2 = postseason_df.duplicated(subset=['uuid']).any()\n",
    "check_dupes2"
   ]
  },
  {
   "cell_type": "code",
   "execution_count": 16,
   "id": "8982f912",
   "metadata": {},
   "outputs": [],
   "source": [
    "#keep only the first 2 characters of string in each of the following columns\n",
    "postseason_df['Ovr_Sat'] = postseason_df['Ovr_Sat'].str[0:2]\n",
    "postseason_df['Team_Sat'] = postseason_df['Team_Sat'].str[0:2]\n",
    "postseason_df['Comm_Sat'] = postseason_df['Comm_Sat'].str[0:2]\n",
    "postseason_df['Benefit_Sat'] = postseason_df['Benefit_Sat'].str[0:2]"
   ]
  },
  {
   "cell_type": "code",
   "execution_count": 17,
   "id": "5ef91489",
   "metadata": {},
   "outputs": [],
   "source": [
    "# get rid of leading and trailing spaces in each of the following columns\n",
    "postseason_df['Ovr_Sat'] = postseason_df['Ovr_Sat'].str.strip()\n",
    "postseason_df['Team_Sat'] = postseason_df['Team_Sat'].str.strip()\n",
    "postseason_df['Comm_Sat'] = postseason_df['Comm_Sat'].str.strip()\n",
    "postseason_df['Benefit_Sat'] = postseason_df['Benefit_Sat'].str.strip()\n"
   ]
  },
  {
   "cell_type": "code",
   "execution_count": 18,
   "id": "6b28fe16",
   "metadata": {},
   "outputs": [],
   "source": [
    "#set type as float\n",
    "postseason_df['Ovr_Sat'] = postseason_df['Ovr_Sat'].astype(float)\n",
    "postseason_df['Team_Sat'] = postseason_df['Team_Sat'].astype(float)\n",
    "postseason_df['Comm_Sat'] = postseason_df['Comm_Sat'].astype(float)\n",
    "postseason_df['Benefit_Sat'] = postseason_df['Benefit_Sat'].astype(float)"
   ]
  },
  {
   "cell_type": "code",
   "execution_count": 19,
   "id": "b7d2444f",
   "metadata": {},
   "outputs": [
    {
     "data": {
      "text/html": [
       "<div>\n",
       "<style scoped>\n",
       "    .dataframe tbody tr th:only-of-type {\n",
       "        vertical-align: middle;\n",
       "    }\n",
       "\n",
       "    .dataframe tbody tr th {\n",
       "        vertical-align: top;\n",
       "    }\n",
       "\n",
       "    .dataframe thead th {\n",
       "        text-align: right;\n",
       "    }\n",
       "</style>\n",
       "<table border=\"1\" class=\"dataframe\">\n",
       "  <thead>\n",
       "    <tr style=\"text-align: right;\">\n",
       "      <th></th>\n",
       "      <th>uuid</th>\n",
       "      <th>Wave</th>\n",
       "      <th>Section</th>\n",
       "      <th>Row</th>\n",
       "      <th>Age</th>\n",
       "      <th>Gender</th>\n",
       "      <th>Tenure</th>\n",
       "      <th>Ovr_Sat</th>\n",
       "      <th>Team_Sat</th>\n",
       "      <th>Comm_Sat</th>\n",
       "      <th>Comm_Freq</th>\n",
       "      <th>Benefit_Sat</th>\n",
       "      <th>Benefit_Aware</th>\n",
       "    </tr>\n",
       "  </thead>\n",
       "  <tbody>\n",
       "    <tr>\n",
       "      <th>0</th>\n",
       "      <td>8727635c</td>\n",
       "      <td>2</td>\n",
       "      <td>187</td>\n",
       "      <td>U</td>\n",
       "      <td>45-54</td>\n",
       "      <td>Male</td>\n",
       "      <td>1 season</td>\n",
       "      <td>8.0</td>\n",
       "      <td>6.0</td>\n",
       "      <td>9.0</td>\n",
       "      <td>Just right</td>\n",
       "      <td>10.0</td>\n",
       "      <td>Aware and have used/received</td>\n",
       "    </tr>\n",
       "    <tr>\n",
       "      <th>1</th>\n",
       "      <td>039ec870</td>\n",
       "      <td>2</td>\n",
       "      <td>459</td>\n",
       "      <td>BB</td>\n",
       "      <td>55-64</td>\n",
       "      <td>Male</td>\n",
       "      <td>11-20 season</td>\n",
       "      <td>5.0</td>\n",
       "      <td>1.0</td>\n",
       "      <td>5.0</td>\n",
       "      <td>Too few</td>\n",
       "      <td>8.0</td>\n",
       "      <td>Aware and have NOT used/received</td>\n",
       "    </tr>\n",
       "    <tr>\n",
       "      <th>2</th>\n",
       "      <td>0285d1ef</td>\n",
       "      <td>2</td>\n",
       "      <td>452</td>\n",
       "      <td>X</td>\n",
       "      <td>65+</td>\n",
       "      <td>Female</td>\n",
       "      <td>21+ seasons</td>\n",
       "      <td>10.0</td>\n",
       "      <td>8.0</td>\n",
       "      <td>10.0</td>\n",
       "      <td>Just right</td>\n",
       "      <td>NaN</td>\n",
       "      <td>Unaware</td>\n",
       "    </tr>\n",
       "    <tr>\n",
       "      <th>3</th>\n",
       "      <td>9493589e</td>\n",
       "      <td>2</td>\n",
       "      <td>1</td>\n",
       "      <td>Z</td>\n",
       "      <td>45-54</td>\n",
       "      <td>Female</td>\n",
       "      <td>6-10 season</td>\n",
       "      <td>10.0</td>\n",
       "      <td>6.0</td>\n",
       "      <td>2.0</td>\n",
       "      <td>Just Right</td>\n",
       "      <td>NaN</td>\n",
       "      <td>Unaware</td>\n",
       "    </tr>\n",
       "    <tr>\n",
       "      <th>4</th>\n",
       "      <td>d7e0f721</td>\n",
       "      <td>2</td>\n",
       "      <td>410</td>\n",
       "      <td>E</td>\n",
       "      <td>55-64</td>\n",
       "      <td>Male</td>\n",
       "      <td>21+ seasons</td>\n",
       "      <td>5.0</td>\n",
       "      <td>4.0</td>\n",
       "      <td>9.0</td>\n",
       "      <td>Just right</td>\n",
       "      <td>8.0</td>\n",
       "      <td>Aware and have used/received</td>\n",
       "    </tr>\n",
       "  </tbody>\n",
       "</table>\n",
       "</div>"
      ],
      "text/plain": [
       "       uuid  Wave  Section Row    Age  Gender        Tenure  Ovr_Sat  \\\n",
       "0  8727635c     2      187   U  45-54    Male      1 season      8.0   \n",
       "1  039ec870     2      459  BB  55-64    Male  11-20 season      5.0   \n",
       "2  0285d1ef     2      452   X    65+  Female   21+ seasons     10.0   \n",
       "3  9493589e     2        1   Z  45-54  Female   6-10 season     10.0   \n",
       "4  d7e0f721     2      410   E  55-64    Male   21+ seasons      5.0   \n",
       "\n",
       "   Team_Sat  Comm_Sat   Comm_Freq  Benefit_Sat  \\\n",
       "0       6.0       9.0  Just right         10.0   \n",
       "1       1.0       5.0     Too few          8.0   \n",
       "2       8.0      10.0  Just right          NaN   \n",
       "3       6.0       2.0  Just Right          NaN   \n",
       "4       4.0       9.0  Just right          8.0   \n",
       "\n",
       "                      Benefit_Aware  \n",
       "0      Aware and have used/received  \n",
       "1  Aware and have NOT used/received  \n",
       "2                           Unaware  \n",
       "3                           Unaware  \n",
       "4      Aware and have used/received  "
      ]
     },
     "execution_count": 19,
     "metadata": {},
     "output_type": "execute_result"
    }
   ],
   "source": [
    "postseason_df.head()"
   ]
  },
  {
   "cell_type": "code",
   "execution_count": 20,
   "id": "972eab53",
   "metadata": {},
   "outputs": [],
   "source": [
    "#use code to export to csv\n",
    "#postseason_df.to_csv('/users/veronicaventure/Documents/bse_postseason_data.csv')"
   ]
  },
  {
   "cell_type": "code",
   "execution_count": 22,
   "id": "73d44707",
   "metadata": {},
   "outputs": [],
   "source": [
    "pre_post_df = pd.concat([preseason_df, postseason_df], ignore_index=True, axis=0)"
   ]
  },
  {
   "cell_type": "code",
   "execution_count": 23,
   "id": "185d723c",
   "metadata": {},
   "outputs": [],
   "source": [
    "#use code to export to csv\n",
    "#pre_post_df.to_csv('/users/veronicaventure/Documents/bse_pre_post_data.csv')"
   ]
  },
  {
   "cell_type": "code",
   "execution_count": null,
   "id": "7f9995a4",
   "metadata": {},
   "outputs": [],
   "source": []
  }
 ],
 "metadata": {
  "kernelspec": {
   "display_name": "Python 3",
   "language": "python",
   "name": "python3"
  },
  "language_info": {
   "codemirror_mode": {
    "name": "ipython",
    "version": 3
   },
   "file_extension": ".py",
   "mimetype": "text/x-python",
   "name": "python",
   "nbconvert_exporter": "python",
   "pygments_lexer": "ipython3",
   "version": "3.8.11"
  }
 },
 "nbformat": 4,
 "nbformat_minor": 5
}
